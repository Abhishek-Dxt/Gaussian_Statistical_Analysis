{
 "cells": [
  {
   "cell_type": "code",
   "execution_count": 1,
   "metadata": {},
   "outputs": [],
   "source": [
    "import numpy as np\n",
    "import pandas as pd\n",
    "import scipy.stats as ss\n",
    "import matplotlib.pyplot as plt"
   ]
  },
  {
   "cell_type": "markdown",
   "metadata": {},
   "source": [
    "Upload the data of file Body_Temperature.csv recording the body temparature of 1000 persons into a pandas dataframe. "
   ]
  },
  {
   "cell_type": "code",
   "execution_count": 3,
   "metadata": {},
   "outputs": [],
   "source": [
    "temp_df = pd.read_csv('Body_Temperature.csv')"
   ]
  },
  {
   "cell_type": "code",
   "execution_count": 5,
   "metadata": {},
   "outputs": [],
   "source": [
    "#Compute mean and standard deviation of the body temperature\n",
    "mean = temp_df['Body_Temperature'].mean()\n",
    "std = temp_df['Body_Temperature'].std()"
   ]
  },
  {
   "cell_type": "code",
   "execution_count": 23,
   "metadata": {},
   "outputs": [
    {
     "name": "stdout",
     "output_type": "stream",
     "text": [
      "The mean of body temperatures is - 36.70450999999999\n",
      "The standard deviation of body temperatures is - 0.20124576954500126\n"
     ]
    }
   ],
   "source": [
    "print(\"The mean of body temperatures is -\",mean)\n",
    "print(\"The standard deviation of body temperatures is -\",std)"
   ]
  },
  {
   "cell_type": "code",
   "execution_count": 9,
   "metadata": {},
   "outputs": [
    {
     "name": "stdout",
     "output_type": "stream",
     "text": [
      "Yes the data is normally distributed\n"
     ]
    }
   ],
   "source": [
    "#Check whether the data representing body temperature is normally distributed or not\n",
    "k2, p = ss.normaltest(temp_df['Body_Temperature'])\n",
    "if p > 0.05:\n",
    "    print(\"Yes the data is normally distributed\")\n",
    "else:\n",
    "    print(\"No the data is not normally distributed\")"
   ]
  },
  {
   "cell_type": "code",
   "execution_count": 11,
   "metadata": {},
   "outputs": [],
   "source": [
    "# Declare a Gaussian Distribution named body_gaussian with the above mean and std. \n",
    "body_gaussian = ss.norm(mean, std)"
   ]
  },
  {
   "cell_type": "code",
   "execution_count": 14,
   "metadata": {},
   "outputs": [
    {
     "data": {
      "image/png": "[encoded data removed]",
      "text/plain": [
       "<Figure size 432x288 with 1 Axes>"
      ]
     },
     "metadata": {
      "needs_background": "light"
     },
     "output_type": "display_data"
    }
   ],
   "source": [
    "# Plot the distribution curve of body_gaussian\n",
    "count, bins, ignored = plt.hist(temp_df['Body_Temperature'], bins = 20, density=True, stacked=True, color = 'b')\n",
    "plt.xlabel('Body_Temperature')\n",
    "plt.ylabel('Probability Density')\n",
    "mu = temp_df['Body_Temperature'].mean()\n",
    "sigma = temp_df['Body_Temperature'].std()\n",
    "plt.plot(bins, 1/(sigma * np.sqrt(2 * np.pi)) *\n",
    "    np.exp( - (bins - mu)**2 / (2 * sigma**2) ), linewidth=3, color='y')\n",
    "plt.show()"
   ]
  },
  {
   "cell_type": "markdown",
   "metadata": {},
   "source": [
    "Let's perform some statistical analysis on the data, based on out body_gaussian model. "
   ]
  },
  {
   "cell_type": "code",
   "execution_count": 16,
   "metadata": {},
   "outputs": [
    {
     "name": "stdout",
     "output_type": "stream",
     "text": [
      "The middle 90% of body temperatures fall between temperatures 36.373490166055255 and 37.03552983394473\n"
     ]
    }
   ],
   "source": [
    "lower,upper = body_gaussian.ppf(0.05), body_gaussian.ppf(0.95)\n",
    "print(\"The middle 90% of body temperatures fall between temperatures\", lower,\"and\",upper)"
   ]
  },
  {
   "cell_type": "code",
   "execution_count": 18,
   "metadata": {},
   "outputs": [
    {
     "name": "stdout",
     "output_type": "stream",
     "text": [
      "The fraction of people that would be expected to have a body temperature above 37.0 is 0.0710108111354989\n",
      "That is around 7.10108111354989 %\n"
     ]
    }
   ],
   "source": [
    "frac = 1 - body_gaussian.cdf(37)\n",
    "print(\"The fraction of people that would be expected to have a body temperature above 37.0 is\", frac)\n",
    "print(\"That is around\",frac*100,\"%\")"
   ]
  },
  {
   "cell_type": "code",
   "execution_count": 21,
   "metadata": {},
   "outputs": [
    {
     "name": "stdout",
     "output_type": "stream",
     "text": [
      "The coolest 20% of all people have a temperature below 36.5351372871842\n"
     ]
    }
   ],
   "source": [
    "coolest = body_gaussian.ppf(0.2)\n",
    "print(\"The coolest 20% of all people have a temperature below\",coolest)"
   ]
  }
 ],
 "metadata": {
  "kernelspec": {
   "display_name": "Python 3",
   "language": "python",
   "name": "python3"
  },
  "language_info": {
   "codemirror_mode": {
    "name": "ipython",
    "version": 3
   },
   "file_extension": ".py",
   "mimetype": "text/x-python",
   "name": "python",
   "nbconvert_exporter": "python",
   "pygments_lexer": "ipython3",
   "version": "3.7.2"
  }
 },
 "nbformat": 4,
 "nbformat_minor": 4
}
